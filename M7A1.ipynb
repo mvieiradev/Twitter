{
  "nbformat": 4,
  "nbformat_minor": 0,
  "metadata": {
    "kernelspec": {
      "display_name": "Python 3",
      "language": "python",
      "name": "python3"
    },
    "language_info": {
      "codemirror_mode": {
        "name": "ipython",
        "version": 3
      },
      "file_extension": ".py",
      "mimetype": "text/x-python",
      "name": "python",
      "nbconvert_exporter": "python",
      "pygments_lexer": "ipython3",
      "version": "3.8.5"
    },
    "colab": {
      "name": "M7A1.ipynb",
      "provenance": [],
      "collapsed_sections": [
        "MO_zOCKXrTVR",
        "fWc99c0im3FN",
        "C17poDU9m3KQ",
        "RdMLL-Z6m3Mg",
        "jMDb4JSRP6RG"
      ]
    }
  },
  "cells": [
    {
      "cell_type": "markdown",
      "metadata": {
        "id": "A1eaRA1fD2PW"
      },
      "source": [
        "![alt text](https://encrypted-tbn0.gstatic.com/images?q=tbn%3AANd9GcTK4gQ9nhwHHaSXMHpeggWg7twwMCgb877smkRmtkmDeDoGF9Z6&usqp=CAU)"
      ]
    },
    {
      "cell_type": "markdown",
      "metadata": {
        "id": "NnoHfvrZ9L5J"
      },
      "source": [
        "# <font color='BLUE'>Cientista de Dados na Prática </font>\n",
        "\n",
        "# <font color='PURPLE'>Módulo 7 - Deploy ou Implementação de Máquinas Preditivas </font>\n",
        "\n",
        "### <font color='GREY'> Sistemas e Aplicações Web com Ciência de Dados </font>  \n",
        "\n",
        "\n",
        "\n"
      ]
    },
    {
      "cell_type": "markdown",
      "metadata": {
        "id": "VIX6bpzj9qb2"
      },
      "source": [
        "**O que é Deploy**\n",
        "\n",
        "Em termos gerais, deploy significa colocar implementar algo. Na prática, geralmente falamos de disponibilizar um sistema para uso, ou aplicações(app) na web, seja num ambiente de desenvolvimento, para testes ou em produção.\n",
        "\n",
        "**Exemplos Práticos**\n",
        "\n",
        "  --Sistemas: Sistema de Aprovação de Empréstimo\n",
        "\n",
        "  --App na Web: Site com App de Busca de Termos em Redes Sociais - Twitter"
      ]
    },
    {
      "cell_type": "markdown",
      "metadata": {
        "id": "5Ahc_sOidznf"
      },
      "source": [
        "# Pré-Requisitos para Avançar neste Módulo\n",
        "![](https://www.e-setorial.com.br/images/artigos/requisitos.png)"
      ]
    },
    {
      "cell_type": "markdown",
      "metadata": {
        "id": "AEUe7rO9GHum"
      },
      "source": [
        "### Ter feito pelo menos o M5 (Criação de Máquinas Preditivas) do CDP \n"
      ]
    },
    {
      "cell_type": "markdown",
      "metadata": {
        "id": "bStnZXVdBjtU"
      },
      "source": [
        "####![](https://i.gifer.com/JYOl.gif)"
      ]
    },
    {
      "cell_type": "markdown",
      "metadata": {
        "id": "VcVTiSO1GHq6"
      },
      "source": [
        "### VM - Virtual Machines\n"
      ]
    },
    {
      "cell_type": "markdown",
      "metadata": {
        "id": "_AetLPJdBgUW"
      },
      "source": [
        "#### ![](https://news-cdn.softpedia.com/images/news2/How-To-Set-Up-a-Windows-Virtual-Machine-479512-4.gif)"
      ]
    },
    {
      "cell_type": "markdown",
      "metadata": {
        "id": "U8LD1XteAr2Q"
      },
      "source": [
        "### Ter muita vontade de Aprender cada vez mais!\n"
      ]
    },
    {
      "cell_type": "markdown",
      "metadata": {
        "id": "PSYkKsKgBUXQ"
      },
      "source": [
        "#### ![](https://media0.giphy.com/media/xUOwFXsOiRuzWfi2xq/giphy.gif)"
      ]
    },
    {
      "cell_type": "markdown",
      "metadata": {
        "id": "0-yLj4q_CVhj"
      },
      "source": [
        "###Process Flow do Projeto M7\n",
        "![](https://cienciadosdados.com/images/2021/Thumbs/m7_flow.png)"
      ]
    },
    {
      "cell_type": "markdown",
      "metadata": {
        "id": "oyjHVmDgJSjP"
      },
      "source": [
        "![](https://cienciadosdados.com/images/2021/Thumbs/astwitter.png)"
      ]
    },
    {
      "cell_type": "markdown",
      "metadata": {
        "id": "xB4s5410EXgA"
      },
      "source": [
        "1° Criação da Máquina Preditiva"
      ]
    },
    {
      "cell_type": "markdown",
      "metadata": {
        "id": "Od6WwrKCFM-9"
      },
      "source": [
        "- Machine Learning\n",
        "- PLN\n",
        "- Pipeline (automatização)\n",
        "- Salvamento da Máquina Preditiva\n"
      ]
    },
    {
      "cell_type": "markdown",
      "metadata": {
        "id": "UFzNJV_HQTZI"
      },
      "source": [
        "2° Criação da Conta de Desenvolvedor no Twitter\n",
        "\n",
        "- Conta no Twitter\n",
        "- https://developer.twitter.com/\n",
        "- Aguardar Tokens"
      ]
    },
    {
      "cell_type": "markdown",
      "metadata": {
        "id": "o9OzNFJSQTZJ"
      },
      "source": [
        "3° Criação da Função de Busca dos Dados no Twitter (get_tweets)\n",
        "\n",
        "\n",
        " \n",
        "- Faz a consulta (Query) no BD do Twitter\n",
        "- Cria a TB com os campos(informações) que queremos dos resultados\n",
        "- Armazena os tweets"
      ]
    },
    {
      "cell_type": "markdown",
      "metadata": {
        "id": "ESQGu_p2QTZK"
      },
      "source": [
        "4° Criação da Função que Pega os dados coletados e faz a Predição com a Máquina Preditiva (get_sentiments)\n",
        "\n",
        "- Chama a Função criada no Passo 3 \n",
        "- Faz a Predição passando os dados coletados\n",
        "- Printa dos Resultados na \"url\""
      ]
    },
    {
      "cell_type": "markdown",
      "metadata": {
        "id": "rIusvBYgQTZK"
      },
      "source": [
        "5° Executa a Aplicação (App) com o VS Code\n",
        "\n",
        "- Download do VSCode\n",
        "- Mapeamento da pasta de arquivos \n",
        "- Executa o python app "
      ]
    },
    {
      "cell_type": "markdown",
      "metadata": {
        "id": "EV7qBe8VCHK6"
      },
      "source": [
        "# Simbóra\n",
        "![](https://i.pinimg.com/originals/40/f4/a5/40f4a53b243411e246d7af7e24160e51.gif)\n",
        "\n"
      ]
    },
    {
      "cell_type": "markdown",
      "metadata": {
        "id": "MO_zOCKXrTVR"
      },
      "source": [
        "#1° Problema de Negócio\n"
      ]
    },
    {
      "cell_type": "markdown",
      "metadata": {
        "id": "__r3zHXqfym7"
      },
      "source": [
        "![](https://thumbs.gfycat.com/InsignificantFlakyCoati-size_restricted.gif)"
      ]
    },
    {
      "cell_type": "markdown",
      "metadata": {
        "id": "p1TnLIy0mqTk"
      },
      "source": [
        "### Nós Precisamos Criar uma Máquina Preditiva para detectar se há incitação ao ódio nos **Tweets**. Para simplificar, dizemos que um Tweet contém discurso de ódio se tiver um sentimento **racista ou sexista** associado a ele."
      ]
    },
    {
      "cell_type": "markdown",
      "metadata": {
        "id": "fWc99c0im3FN"
      },
      "source": [
        "#2° Análise Exploratória dos Dados\n"
      ]
    },
    {
      "cell_type": "code",
      "metadata": {
        "id": "6czxHQP8uaE1"
      },
      "source": [
        "sudo apt-get install python3-flask"
      ],
      "execution_count": null,
      "outputs": []
    },
    {
      "cell_type": "code",
      "metadata": {
        "id": "hr96C7b6ue4r"
      },
      "source": [
        "# importing required libraries\n",
        "import pandas as pd\n",
        "from sklearn.feature_extraction.text import ENGLISH_STOP_WORDS, TfidfVectorizer\n",
        "from sklearn.linear_model import LogisticRegression\n",
        "from sklearn.pipeline import Pipeline\n",
        "from sklearn.metrics import f1_score\n",
        "from sklearn.model_selection import train_test_split"
      ],
      "execution_count": null,
      "outputs": []
    },
    {
      "cell_type": "code",
      "metadata": {
        "id": "wa4_W3gOue7j",
        "colab": {
          "base_uri": "https://localhost:8080/",
          "height": 34
        },
        "outputId": "5bc7041b-061c-4601-b040-61cc378d8cb8"
      },
      "source": [
        "# read the dataset\n",
        "data = pd.read_csv('/content/TWITTER_SENTIMENT_M7')\n",
        "# view the top rows\n",
        "data.tweet[0]"
      ],
      "execution_count": null,
      "outputs": [
        {
          "output_type": "execute_result",
          "data": {
            "application/vnd.google.colaboratory.intrinsic+json": {
              "type": "string"
            },
            "text/plain": [
              "' @user when a father is dysfunctional and is so selfish he drags his kids into his dysfunction.   #run'"
            ]
          },
          "metadata": {
            "tags": []
          },
          "execution_count": 6
        }
      ]
    },
    {
      "cell_type": "code",
      "metadata": {
        "id": "Q7xbTfc_ue9p"
      },
      "source": [
        "# train test split\n",
        "train, test = train_test_split(data, test_size = 0.2, stratify = data['label'], random_state=21)\n",
        "\n",
        "# get the shape of train and test split.\n",
        "train.shape, test.shape\n",
        "## >> ((25569, 3), (6393, 3))"
      ],
      "execution_count": null,
      "outputs": []
    },
    {
      "cell_type": "code",
      "metadata": {
        "id": "zCHPfQi-ufAH"
      },
      "source": [
        "# create a TF-IDF vectorizer object\n",
        "tfidf_vectorizer = TfidfVectorizer(lowercase= True, max_features=1000, stop_words=ENGLISH_STOP_WORDS)\n",
        "\n",
        "# fit the object with the training data tweets\n",
        "tfidf_vectorizer.fit(train.tweet)"
      ],
      "execution_count": null,
      "outputs": []
    },
    {
      "cell_type": "code",
      "metadata": {
        "id": "_i-E9mmPufC1"
      },
      "source": [
        "# transform the train and test data\n",
        "train_idf = tfidf_vectorizer.transform(train.tweet)\n",
        "test_idf  = tfidf_vectorizer.transform(test.tweet)"
      ],
      "execution_count": null,
      "outputs": []
    },
    {
      "cell_type": "code",
      "metadata": {
        "id": "_r95waeoufFq"
      },
      "source": [
        "# create the object of LinearRegression Model\n",
        "model_LR = LogisticRegression()\n",
        "\n",
        "# fit the model with the training data\n",
        "model_LR.fit(train_idf, train.label)\n",
        "\n",
        "# predict the label on the traning data\n",
        "predict_train = model_LR.predict(train_idf)\n",
        "\n",
        "# predict the model on the test data\n",
        "predict_test = model_LR.predict(test_idf)\n",
        "\n",
        "# f1 score on train data\n",
        "f1_score(y_true= train.label, y_pred= predict_train)\n",
        "## >> 0.4888178913738019\n",
        "\n",
        "f1_score(y_true= test.label, y_pred= predict_test)\n",
        "## >> 0.45751633986928114"
      ],
      "execution_count": null,
      "outputs": []
    },
    {
      "cell_type": "code",
      "metadata": {
        "id": "beYYlmO0ufIF"
      },
      "source": [
        "# define the stages of the pipeline\n",
        "pipeline = Pipeline(steps= [('tfidf', TfidfVectorizer(lowercase=True,\n",
        "                                                      max_features=1000,\n",
        "                                                      stop_words= ENGLISH_STOP_WORDS)),\n",
        "                            ('model', LogisticRegression())])\n",
        "\n",
        "# fit the pipeline model with the training data                            \n",
        "pipeline.fit(train.tweet, train.label)"
      ],
      "execution_count": null,
      "outputs": []
    },
    {
      "cell_type": "code",
      "metadata": {
        "id": "OaIudwFwufKg"
      },
      "source": [
        "# sample tweet\n",
        "text = [\"Virat Kohli, AB de Villiers set to auction their 'Green Day' kits from 2016 IPL match to raise funds\"]\n",
        "\n",
        "# predict the label using the pipeline\n",
        "pipeline.predict(text)\n",
        "## >> array([0])"
      ],
      "execution_count": null,
      "outputs": []
    },
    {
      "cell_type": "code",
      "metadata": {
        "id": "NzDpTWneufM0"
      },
      "source": [
        "# import joblib\n",
        "from joblib import dump\n",
        "\n",
        "# dump the pipeline model\n",
        "dump(pipeline, filename=\"text_classification.joblib\")"
      ],
      "execution_count": null,
      "outputs": []
    },
    {
      "cell_type": "code",
      "metadata": {
        "id": "qlRrwxYaufRc"
      },
      "source": [
        "# import joblib\n",
        "from joblib import load\n",
        "\n",
        "# sample tweet text\n",
        "text = [\"Virat Kohli, AB de Villiers set to auction their 'Green Day' kits from 2016 IPL match to raise funds\"]\n",
        "\n",
        "# load the saved pipleine model\n",
        "pipeline = load(\"text_classification.joblib\")\n",
        "\n",
        "# predict on the sample tweet text\n",
        "pipeline.predict(text)\n",
        "## >> array([0])"
      ],
      "execution_count": null,
      "outputs": []
    },
    {
      "cell_type": "markdown",
      "metadata": {
        "id": "9-_qOBMuI1Mz"
      },
      "source": [
        "#3° Pré-Processamento dos Dados"
      ]
    },
    {
      "cell_type": "markdown",
      "metadata": {
        "id": "C17poDU9m3KQ"
      },
      "source": [
        "#4° Construíndo a Máquina Preditiva \n"
      ]
    },
    {
      "cell_type": "markdown",
      "metadata": {
        "id": "S_AJXa_QeN20"
      },
      "source": [
        "### Machine Learning\n",
        "![](https://storage.googleapis.com/gweb-uniblog-publish-prod/original_images/2019-07-31.gif)\n"
      ]
    },
    {
      "cell_type": "markdown",
      "metadata": {
        "id": "RdMLL-Z6m3Mg"
      },
      "source": [
        "#5° Avaliação da Máquina Preditiva\n"
      ]
    },
    {
      "cell_type": "markdown",
      "metadata": {
        "id": "i7N6e4UcAV5l"
      },
      "source": [
        "## ![](https://machinelearning101.readthedocs.io/en/latest/_images/figure_03.gif)"
      ]
    },
    {
      "cell_type": "markdown",
      "metadata": {
        "id": "jMDb4JSRP6RG"
      },
      "source": [
        "#6° Deploy da Aplicação (app) Web\n"
      ]
    },
    {
      "cell_type": "markdown",
      "metadata": {
        "id": "FJGWj9nbEXjA"
      },
      "source": [
        "2° Criação da Conta de Desenvolvedor no Twitter\n",
        "\n",
        "- Conta no Twitter\n",
        "- https://developer.twitter.com/\n",
        "- Aguardar Tokens"
      ]
    },
    {
      "cell_type": "code",
      "metadata": {
        "id": "yuIPTj9hufUQ"
      },
      "source": [
        "!pip3 install tweepy"
      ],
      "execution_count": null,
      "outputs": []
    },
    {
      "cell_type": "code",
      "metadata": {
        "id": "TNxZnZKM37gU"
      },
      "source": [
        "# import required libraries\n",
        "import tweepy\n",
        "import time\n",
        "import pandas as pd\n",
        "pd.set_option('display.max_colwidth', 1000)"
      ],
      "execution_count": null,
      "outputs": []
    },
    {
      "cell_type": "code",
      "metadata": {
        "id": "cgkdHFSAufW0"
      },
      "source": [
        "# import required libraries\n",
        "import tweepy\n",
        "import time\n",
        "import pandas as pd\n",
        "pd.set_option('display.max_colwidth', 1000)\n",
        "\n",
        "# api key\n",
        "api_key = \"Enter API Key Here\"\n",
        "# api secret key\n",
        "api_secret_key = \"Enter API Secret Key Here.\"\n",
        "# access token\n",
        "access_token = \"Enter Access Token Here\"\n",
        "# access token secret\n",
        "access_token_secret = \"Enter Access Token Secret Here.\"\n",
        "\n",
        "# authorize the API Key\n",
        "authentication = tweepy.OAuthHandler(api_key, api_secret_key)\n",
        "\n",
        "# authorization to user's access token and access token secret\n",
        "authentication.set_access_token(access_token, access_token_secret)\n",
        "\n",
        "# call the api\n",
        "api = tweepy.API(authentication, wait_on_rate_limit=True)"
      ],
      "execution_count": null,
      "outputs": []
    },
    {
      "cell_type": "markdown",
      "metadata": {
        "id": "KpHqHRnuEXmL"
      },
      "source": [
        "3° Criação da Função de Busca dos Dados no Twitter\n",
        " \n",
        "- Faz a consulta (Query) no BD do Twitter\n",
        "- Cria a TB com os campos(informações) que queremos dos resultados\n",
        "- Armazena os tweets"
      ]
    },
    {
      "cell_type": "code",
      "metadata": {
        "id": "dwDMYFf8ufaK"
      },
      "source": [
        "def get_related_tweets(text_query):\n",
        "    # list to store tweets\n",
        "    tweets_list = []\n",
        "    # no of tweets\n",
        "    count = 50\n",
        "    try:\n",
        "        # Pulling individual tweets from query\n",
        "        for tweet in api.search(q=text_query, count=count):\n",
        "            print(tweet.text)\n",
        "            # Adding to list that contains all tweets\n",
        "            tweets_list.append({'created_at': tweet.created_at,\n",
        "                                'tweet_id': tweet.id,\n",
        "                                'tweet_text': tweet.text})\n",
        "        return pd.DataFrame.from_dict(tweets_list)\n",
        "\n",
        "    except BaseException as e:\n",
        "        print('failed on_status,', str(e))\n",
        "        time.sleep(3)"
      ],
      "execution_count": null,
      "outputs": []
    },
    {
      "cell_type": "markdown",
      "metadata": {
        "id": "hvgZnGtvEXoj"
      },
      "source": [
        "4° Criação da Função que Pega os dados coletados e faz a Predição com a Máquina Preditiva\n",
        "\n",
        "- Chama a Função criada no Passo 3 \n",
        "- Faz a Predição passando os dados coletados\n",
        "- Printa dos Resultados na \"url\""
      ]
    },
    {
      "cell_type": "code",
      "metadata": {
        "id": "YM6kDiIJufc8"
      },
      "source": [
        "# importing the required libraries\n",
        "from flask import Flask, render_template, request, redirect, url_for\n",
        "from joblib import load\n",
        "from get_tweets import get_related_tweets\n",
        "\n",
        "# load the pipeline object\n",
        "pipeline = load(\"text_classification.joblib\")\n",
        "\n",
        "# function to get results for a particular text query\n",
        "def requestResults(name):\n",
        "    # get the tweets text\n",
        "    tweets = get_related_tweets(name)\n",
        "    # get the prediction\n",
        "    tweets['prediction'] = pipeline.predict(tweets['tweet_text'])\n",
        "    # get the value counts of different labels predicted\n",
        "    data = str(tweets.prediction.value_counts()) + '\\n\\n'\n",
        "    return data + str(tweets)"
      ],
      "execution_count": null,
      "outputs": []
    },
    {
      "cell_type": "code",
      "metadata": {
        "id": "IqJc0fO9uffo"
      },
      "source": [
        "# start flask\n",
        "app = Flask(__name__)\n",
        "\n",
        "# render default webpage\n",
        "@app.route('/')\n",
        "def home():\n",
        "    return render_template('home.html')\n",
        "\n",
        "# when the post method detect, then redirect to success function\n",
        "@app.route('/', methods=['POST', 'GET'])\n",
        "def get_data():\n",
        "    if request.method == 'POST':\n",
        "        user = request.form['search']\n",
        "        return redirect(url_for('success', name=user))\n",
        "\n",
        "# get the data for the requested query\n",
        "@app.route('/success/<name>')\n",
        "def success(name):\n",
        "    return \"<xmp>\" + str(requestResults(name)) + \" </xmp> \"\n",
        "    app.run(debug=True)"
      ],
      "execution_count": null,
      "outputs": []
    },
    {
      "cell_type": "markdown",
      "metadata": {
        "id": "jB5zYNKqG8za"
      },
      "source": [
        "5° Executa a Aplicação (App) com o VS Code\n",
        "\n",
        "- Download do VSCode\n",
        "- Mapeamento das pastas de arquivos \n",
        "- Executa o python app "
      ]
    }
  ]
}